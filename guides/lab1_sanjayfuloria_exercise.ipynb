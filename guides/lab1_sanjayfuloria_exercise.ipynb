{
  "nbformat": 4,
  "nbformat_minor": 0,
  "metadata": {
    "colab": {
      "provenance": []
    },
    "kernelspec": {
      "name": "python3",
      "display_name": "Python 3"
    },
    "language_info": {
      "name": "python"
    }
  },
  "cells": [
    {
      "cell_type": "code",
      "execution_count": null,
      "metadata": {
        "id": "pr140wKNo7Yg"
      },
      "outputs": [],
      "source": [
        "import openai\n",
        "import httpx\n",
        "import certifi\n",
        "\n",
        "# Setup: Secure transport\n",
        "transport = httpx.HTTPTransport(verify=certifi.where())\n",
        "client = openai.OpenAI(\n",
        "    api_key=\"my API Key\",  # Replace with your actual key\n",
        "    http_client=httpx.Client(transport=transport)\n",
        ")\n",
        "\n",
        "# Step 1: Ask the LLM to pick a business area\n",
        "step1 = client.chat.completions.create(\n",
        "    model=\"gpt-4\",  # Or \"gpt-4o\" if available\n",
        "    messages=[\n",
        "        {\"role\": \"system\", \"content\": \"You are a strategic AI business consultant.\"},\n",
        "        {\"role\": \"user\", \"content\": \"Pick one business area that might be worth exploring for an Agentic AI opportunity. Be precise.\"}\n",
        "    ]\n",
        ")\n",
        "business_area = step1.choices[0].message.content.strip()\n",
        "print(f\"\\n🔹 Business Area: {business_area}\")\n",
        "\n",
        "# Step 2: Ask for a pain point in that industry\n",
        "step2 = client.chat.completions.create(\n",
        "    model=\"gpt-4\",\n",
        "    messages=[\n",
        "        {\"role\": \"system\", \"content\": \"You are a domain expert in business operations.\"},\n",
        "        {\"role\": \"user\", \"content\": f\"In the domain of {business_area}, identify a pressing pain-point or inefficiency that may benefit from an Agentic AI solution.\"}\n",
        "    ]\n",
        ")\n",
        "pain_point = step2.choices[0].message.content.strip()\n",
        "print(f\"\\n🔹 Pain Point: {pain_point}\")\n",
        "\n",
        "# Step 3: Propose an Agentic AI solution\n",
        "step3 = client.chat.completions.create(\n",
        "    model=\"gpt-4\",\n",
        "    messages=[\n",
        "        {\"role\": \"system\", \"content\": \"You are a solution architect for Agentic AI systems.\"},\n",
        "        {\"role\": \"user\", \"content\": f\"Given the pain point '{pain_point}' in the domain of {business_area}, propose a practical Agentic AI-based solution. Be clear, innovative, and realistic.\"}\n",
        "    ]\n",
        ")\n",
        "solution = step3.choices[0].message.content.strip()\n",
        "print(f\"\\n🔹 Agentic AI Solution:\\n{solution}\")\n"
      ]
    },
    {
      "cell_type": "markdown",
      "source": [
        "Solution Proposal:\n",
        "\n",
        "The proposed solution is an end-to-end Agentic AI platform named \"ForecastAI\" with the primary aim of improving demand forecasting accuracy in the Manufacturing Industry.\n",
        "\n",
        "Solution Functionality:\n",
        "\n",
        "Advanced Demand Forecasting: ForecastAI would leverage machine learning models and predictive analytics to analyze historical sales data along with various external factors such as market trends, consumer behaviors, and economic conditions. It will also consider seasonal variations, emerging market trends, and even global events. Furthermore, the system would be dynamic and adapt to changes over time, further improving its accuracy.\n",
        "\n",
        "Real-time Inventory Management: The platform would integrate with the manufacturing company's ERP system to correlate the advanced demand predictions with the real inventory. It would provide real-time updates on stock levels, alerting managers when they need to restock before running out of stock or when there's a risk of overstocking.\n",
        "\n",
        "Predictive Maintenance: ForecastAI would also analyze patterns in equipment data to predict when maintenance checks should ideally be performed. This would prevent unforeseen equipment breakdowns, reducing unplanned downtime and maintenance costs.\n",
        "\n",
        "Analytics and Reporting: The platform would present actionable insights through intuitive dashboards, enabling decision-makers to identify potential bottlenecks, visualize demand trends, and improve overall supply chain performance.\n",
        "\n",
        "Enhanced Logistics: Based on the demand forecasting, the AI will also suggest optimal delivery routes and schedules to fulfill those demands in the most efficient and cost-effective manner.\n",
        "\n",
        "This solution offers a clear, innovative, and realistic way to address the pain point, as machine learning models are already proving to be successful in demand forecasting and inventory management scenarios. The use of predictive maintenance and enhanced logistics is a natural extension of this, backed by proven AI technologies.\n",
        "\n",
        "By implementing ForecastAI, manufacturing firms can streamline their operations, realize significant cost savings, optimize their supply chain, and in turn, enhance customer satisfaction by ensuring product availability and prompt delivery."
      ],
      "metadata": {
        "id": "Ku7hAbdipQek"
      }
    }
  ]
}