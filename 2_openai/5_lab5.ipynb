{
 "cells": [
  {
   "cell_type": "markdown",
   "metadata": {},
   "source": [
    "## Week 2 Day 5\n",
    "\n",
    "### Modular AI Research System with Gradio UI Implementation\n",
    "\n",
    "Let's transform our notebook code into **modular Python code**. You'll find these modules in the `2_openai/deep_research` folder. This means we'll be running this lab directly from your **terminal**, rather than from a notebook.\n",
    "\n",
    "Here's how to get started:\n",
    "\n",
    "### Running This Lab\n",
    "\n",
    "1.  **Open a new terminal in Cursor.** You can quickly do this by pressing `` ctrl+` `` or by navigating to `View > Terminal` in the menu.\n",
    "2.  **Navigate to the project folder** by running this command in your terminal:\n",
    "    ```bash\n",
    "    cd 2_openai/deep_research\n",
    "    ```\n",
    "3.  **Launch the Gradio application** with the following command. It should automatically open in your web browser:\n",
    "    ```bash\n",
    "    uv run deep_research.py\n",
    "    ```\n",
    "4. Enter a research topic you're interested in and have fun! "
   ]
  }
 ],
 "metadata": {
  "kernelspec": {
   "display_name": ".venv",
   "language": "python",
   "name": "python3"
  },
  "language_info": {
   "codemirror_mode": {
    "name": "ipython",
    "version": 3
   },
   "file_extension": ".py",
   "mimetype": "text/x-python",
   "name": "python",
   "nbconvert_exporter": "python",
   "pygments_lexer": "ipython3",
   "version": "3.12.9"
  }
 },
 "nbformat": 4,
 "nbformat_minor": 2
}
