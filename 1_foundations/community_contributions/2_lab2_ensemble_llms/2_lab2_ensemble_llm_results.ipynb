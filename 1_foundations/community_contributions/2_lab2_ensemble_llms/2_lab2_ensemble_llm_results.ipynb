{
 "cells": [
  {
   "cell_type": "code",
   "execution_count": null,
   "id": "568da418",
   "metadata": {},
   "outputs": [],
   "source": [
    "# Start with imports - ask ChatGPT to explain any package that you don't know\n",
    "\n",
    "import os\n",
    "import json\n",
    "from dotenv import load_dotenv\n",
    "from openai import OpenAI\n",
    "from anthropic import Anthropic\n",
    "from IPython.display import Markdown, display\n",
    "import pandas as pd"
   ]
  },
  {
   "cell_type": "code",
   "execution_count": null,
   "id": "80b19100",
   "metadata": {},
   "outputs": [],
   "source": [
    "# Always remember to do this!\n",
    "load_dotenv(override=True)"
   ]
  },
  {
   "cell_type": "code",
   "execution_count": null,
   "id": "107879cf",
   "metadata": {},
   "outputs": [],
   "source": [
    "# Print the key prefixes to help with any debugging\n",
    "\n",
    "openai_api_key = os.getenv('OPENAI_API_KEY')\n",
    "anthropic_api_key = os.getenv('ANTHROPIC_API_KEY')\n",
    "google_api_key = os.getenv('GOOGLE_API_KEY')\n",
    "deepseek_api_key = os.getenv('DEEPSEEK_API_KEY')\n",
    "groq_api_key = os.getenv('GROQ_API_KEY')\n",
    "\n",
    "if openai_api_key:\n",
    "    print(f\"OpenAI API Key exists and begins {openai_api_key[:8]}\")\n",
    "else:\n",
    "    print(\"OpenAI API Key not set\")\n",
    "    \n",
    "if anthropic_api_key:\n",
    "    print(f\"Anthropic API Key exists and begins {anthropic_api_key[:7]}\")\n",
    "else:\n",
    "    print(\"Anthropic API Key not set (and this is optional)\")\n",
    "\n",
    "if google_api_key:\n",
    "    print(f\"Google API Key exists and begins {google_api_key[:2]}\")\n",
    "else:\n",
    "    print(\"Google API Key not set (and this is optional)\")\n",
    "\n",
    "if deepseek_api_key:\n",
    "    print(f\"DeepSeek API Key exists and begins {deepseek_api_key[:3]}\")\n",
    "else:\n",
    "    print(\"DeepSeek API Key not set (and this is optional)\")\n",
    "\n",
    "if groq_api_key:\n",
    "    print(f\"Groq API Key exists and begins {groq_api_key[:4]}\")\n",
    "else:\n",
    "    print(\"Groq API Key not set (and this is optional)\")"
   ]
  },
  {
   "cell_type": "code",
   "execution_count": null,
   "id": "f6a8c2b0",
   "metadata": {},
   "outputs": [],
   "source": [
    "request = \"Please come up with a challenging, nuanced question that I can ask a number of LLMs to evaluate their intelligence. \"\n",
    "request += \"Answer only with the question, no explanation.\"\n",
    "messages = [{\"role\": \"user\", \"content\": request}]"
   ]
  },
  {
   "cell_type": "code",
   "execution_count": null,
   "id": "35259385",
   "metadata": {},
   "outputs": [],
   "source": [
    "messages"
   ]
  },
  {
   "cell_type": "code",
   "execution_count": null,
   "id": "edf06ed7",
   "metadata": {},
   "outputs": [],
   "source": [
    "openai = OpenAI()\n",
    "response = openai.chat.completions.create(\n",
    "    model=\"gpt-4o-mini\",\n",
    "    messages=messages,\n",
    ")\n",
    "question = response.choices[0].message.content\n",
    "print(question)"
   ]
  },
  {
   "cell_type": "code",
   "execution_count": null,
   "id": "f9449a46",
   "metadata": {},
   "outputs": [],
   "source": [
    "competitors = []\n",
    "answers = []\n",
    "messages = [{\"role\": \"user\", \"content\": question}]"
   ]
  },
  {
   "cell_type": "code",
   "execution_count": null,
   "id": "33f31007",
   "metadata": {},
   "outputs": [],
   "source": [
    "# The API we know well\n",
    "\n",
    "model_name = \"gpt-4o-mini\"\n",
    "\n",
    "response = openai.chat.completions.create(model=model_name, messages=messages)\n",
    "answer = response.choices[0].message.content\n",
    "\n",
    "display(Markdown(answer))\n",
    "competitors.append(model_name)\n",
    "answers.append(answer)"
   ]
  },
  {
   "cell_type": "code",
   "execution_count": null,
   "id": "9b019682",
   "metadata": {},
   "outputs": [],
   "source": [
    "# Anthropic has a slightly different API, and Max Tokens is required\n",
    "\n",
    "model_name = \"claude-3-7-sonnet-latest\"\n",
    "\n",
    "claude = Anthropic()\n",
    "response = claude.messages.create(model=model_name, messages=messages, max_tokens=1000)\n",
    "answer = response.content[0].text\n",
    "\n",
    "display(Markdown(answer))\n",
    "competitors.append(model_name)\n",
    "answers.append(answer)"
   ]
  },
  {
   "cell_type": "code",
   "execution_count": null,
   "id": "03cf5ac2",
   "metadata": {},
   "outputs": [],
   "source": [
    "gemini = OpenAI(api_key=google_api_key, base_url=\"https://generativelanguage.googleapis.com/v1beta/openai/\")\n",
    "model_name = \"gemini-2.0-flash\"\n",
    "\n",
    "response = gemini.chat.completions.create(model=model_name, messages=messages)\n",
    "answer = response.choices[0].message.content\n",
    "\n",
    "display(Markdown(answer))\n",
    "competitors.append(model_name)\n",
    "answers.append(answer)"
   ]
  },
  {
   "cell_type": "code",
   "execution_count": null,
   "id": "d6a5b017",
   "metadata": {},
   "outputs": [],
   "source": [
    "deepseek = OpenAI(api_key=deepseek_api_key, base_url=\"https://api.deepseek.com/v1\")\n",
    "model_name = \"deepseek-chat\"\n",
    "\n",
    "response = deepseek.chat.completions.create(model=model_name, messages=messages)\n",
    "answer = response.choices[0].message.content\n",
    "\n",
    "display(Markdown(answer))\n",
    "competitors.append(model_name)\n",
    "answers.append(answer)"
   ]
  },
  {
   "cell_type": "code",
   "execution_count": null,
   "id": "476061fb",
   "metadata": {},
   "outputs": [],
   "source": [
    "groq = OpenAI(api_key=groq_api_key, base_url=\"https://api.groq.com/openai/v1\")\n",
    "model_name = \"llama-3.3-70b-versatile\"\n",
    "\n",
    "response = groq.chat.completions.create(model=model_name, messages=messages)\n",
    "answer = response.choices[0].message.content\n",
    "\n",
    "display(Markdown(answer))\n",
    "competitors.append(model_name)\n",
    "answers.append(answer)"
   ]
  },
  {
   "cell_type": "code",
   "execution_count": null,
   "id": "f51ff5ab",
   "metadata": {},
   "outputs": [],
   "source": [
    "ollama = OpenAI(base_url='http://localhost:11434/v1', api_key='ollama')\n",
    "#model_name = \"llama3.2\"\n",
    "model_name =\"llama3\"\n",
    "\n",
    "response = ollama.chat.completions.create(model=model_name, messages=messages)\n",
    "answer = response.choices[0].message.content\n",
    "\n",
    "display(Markdown(answer))\n",
    "competitors.append(model_name)\n",
    "answers.append(answer)"
   ]
  },
  {
   "cell_type": "code",
   "execution_count": null,
   "id": "eaf5b4de",
   "metadata": {},
   "outputs": [],
   "source": [
    "print(competitors)\n",
    "print(answers)\n"
   ]
  },
  {
   "cell_type": "code",
   "execution_count": null,
   "id": "7df9ab05",
   "metadata": {},
   "outputs": [],
   "source": [
    "# It's nice to know how to use \"zip\"\n",
    "for competitor, answer in zip(competitors, answers):\n",
    "    print(f\"Competitor: {competitor}\\n\\n{answer}\")"
   ]
  },
  {
   "cell_type": "code",
   "execution_count": null,
   "id": "489d00cc",
   "metadata": {},
   "outputs": [],
   "source": [
    "together = \"\"\n",
    "for index, answer in enumerate(answers):\n",
    "    together += f\"# Response from competitor {index+1}\\n\\n\"\n",
    "    together += answer + \"\\n\\n\""
   ]
  },
  {
   "cell_type": "code",
   "execution_count": null,
   "id": "30e5b465",
   "metadata": {},
   "outputs": [],
   "source": [
    "print(together)"
   ]
  },
  {
   "cell_type": "code",
   "execution_count": null,
   "id": "9b15fb97",
   "metadata": {},
   "outputs": [],
   "source": [
    "judge = f\"\"\"You are judging a competition between {len(competitors)} competitors.\n",
    "Each model has been given this question:\n",
    "\n",
    "{question}\n",
    "\n",
    "Your job is to evaluate each response for clarity and strength of argument, and rank them in order of best to worst.\n",
    "Respond with JSON, and only JSON, with the following format:\n",
    "{{\"results\": [\"best competitor number\", \"second best competitor number\", \"third best competitor number\", ...]}}\n",
    "\n",
    "Here are the responses from each competitor:\n",
    "\n",
    "{together}\n",
    "\n",
    "Now respond with the JSON with the ranked order of the competitors, nothing else. Do not include markdown formatting or code blocks.\"\"\"\n"
   ]
  },
  {
   "cell_type": "code",
   "execution_count": null,
   "id": "03f5b1c9",
   "metadata": {},
   "outputs": [],
   "source": [
    "print(judge)"
   ]
  },
  {
   "cell_type": "code",
   "execution_count": null,
   "id": "bca9702a",
   "metadata": {},
   "outputs": [],
   "source": [
    "judge_messages = [{\"role\": \"user\", \"content\": judge}]"
   ]
  },
  {
   "cell_type": "code",
   "execution_count": null,
   "id": "b0f93bca",
   "metadata": {},
   "outputs": [],
   "source": [
    "# Judgement time!\n",
    "\n",
    "openai = OpenAI()\n",
    "response = openai.chat.completions.create(\n",
    "    model=\"o3-mini\",\n",
    "    messages=judge_messages,\n",
    ")\n",
    "judge_o3_mini = response.choices[0].message.content\n",
    "print(judge_o3_mini)\n"
   ]
  },
  {
   "cell_type": "markdown",
   "id": "906189fc",
   "metadata": {},
   "source": [
    "## Create a dictionary to cobble all judges into a df"
   ]
  },
  {
   "cell_type": "code",
   "execution_count": null,
   "id": "8f972bf5",
   "metadata": {},
   "outputs": [],
   "source": [
    "judge_dict = dict()"
   ]
  },
  {
   "cell_type": "code",
   "execution_count": null,
   "id": "79c4020a",
   "metadata": {},
   "outputs": [],
   "source": [
    "# OK let's turn this into results!\n",
    "\n",
    "results_dict = json.loads(judge_o3_mini)\n",
    "ranks = results_dict[\"results\"]\n",
    "for index, result in enumerate(ranks):\n",
    "    competitor = competitors[int(result)-1]\n",
    "    print(f\"Rank {index+1}: {competitor}\")"
   ]
  },
  {
   "cell_type": "code",
   "execution_count": null,
   "id": "e46b0ba5",
   "metadata": {},
   "outputs": [],
   "source": [
    "judge_dict['judge_03_mini'] = [competitors[int(i)-1] for i in ranks]"
   ]
  },
  {
   "cell_type": "code",
   "execution_count": null,
   "id": "703debcf",
   "metadata": {},
   "outputs": [],
   "source": [
    "model_name = \"claude-3-7-sonnet-latest\"\n",
    "\n",
    "claude = Anthropic()\n",
    "response = claude.messages.create(model=model_name, messages=judge_messages, max_tokens=1000)\n",
    "judge_anthropic = response.content[0].text\n",
    "\n",
    "print(judge_anthropic)\n"
   ]
  },
  {
   "cell_type": "code",
   "execution_count": null,
   "id": "754a28be",
   "metadata": {},
   "outputs": [],
   "source": [
    "results_dict = json.loads(judge_anthropic)\n",
    "ranks = results_dict[\"results\"]\n",
    "for index, result in enumerate(ranks):\n",
    "    competitor = competitors[int(result)-1]\n",
    "    print(f\"Rank {index+1}: {competitor}\")"
   ]
  },
  {
   "cell_type": "code",
   "execution_count": null,
   "id": "11f8ba18",
   "metadata": {},
   "outputs": [],
   "source": [
    "judge_dict['judge_anthropic'] = [competitors[int(i)-1] for i in ranks]"
   ]
  },
  {
   "cell_type": "code",
   "execution_count": null,
   "id": "681a2cbb",
   "metadata": {},
   "outputs": [],
   "source": [
    "gemini = OpenAI(api_key=google_api_key, base_url=\"https://generativelanguage.googleapis.com/v1beta/openai/\")\n",
    "model_name = \"gemini-2.0-flash\"\n",
    "\n",
    "response = gemini.chat.completions.create(model=model_name, messages=judge_messages)\n",
    "judge_gemini = response.choices[0].message.content\n",
    "\n",
    "print(judge_gemini)"
   ]
  },
  {
   "cell_type": "code",
   "execution_count": null,
   "id": "0de605f4",
   "metadata": {},
   "outputs": [],
   "source": [
    "results_dict = json.loads(judge_gemini)\n",
    "ranks = results_dict[\"results\"]\n",
    "for index, result in enumerate(ranks):\n",
    "    competitor = competitors[int(result)-1]\n",
    "    print(f\"Rank {index+1}: {competitor}\")"
   ]
  },
  {
   "cell_type": "code",
   "execution_count": null,
   "id": "3c6072d2",
   "metadata": {},
   "outputs": [],
   "source": [
    "judge_dict['judge_gemini'] = [competitors[int(i)-1] for i in ranks]"
   ]
  },
  {
   "cell_type": "code",
   "execution_count": null,
   "id": "83ff2ad6",
   "metadata": {},
   "outputs": [],
   "source": [
    "deepseek = OpenAI(api_key=deepseek_api_key, base_url=\"https://api.deepseek.com/v1\")\n",
    "model_name = \"deepseek-chat\"\n",
    "\n",
    "response = deepseek.chat.completions.create(model=model_name, messages=judge_messages)\n",
    "judge_deepseek = response.choices[0].message.content\n",
    "\n",
    "print(judge_deepseek)"
   ]
  },
  {
   "cell_type": "code",
   "execution_count": null,
   "id": "c62cc159",
   "metadata": {},
   "outputs": [],
   "source": [
    "# deepseek returned following, so did some cleanup\n",
    "# ```json\n",
    "#{\"results\": [\"3\", \"1\", \"4\", \"5\", \"2\", \"6\"]}\n",
    "#```\n",
    "judge_deepseek = judge_deepseek.strip().removeprefix(\"```json\").removesuffix(\"```\").replace(\"competitor \",\"\")\n"
   ]
  },
  {
   "cell_type": "code",
   "execution_count": null,
   "id": "cc33fc00",
   "metadata": {},
   "outputs": [],
   "source": [
    "print(judge_deepseek)"
   ]
  },
  {
   "cell_type": "code",
   "execution_count": null,
   "id": "1ad1f121",
   "metadata": {},
   "outputs": [],
   "source": [
    "results_dict = json.loads(judge_deepseek)\n",
    "ranks = results_dict[\"results\"]\n",
    "for index, result in enumerate(ranks):\n",
    "    competitor = competitors[int(result)-1]\n",
    "    print(f\"Rank {index+1}: {competitor}\")"
   ]
  },
  {
   "cell_type": "code",
   "execution_count": null,
   "id": "ae9371d9",
   "metadata": {},
   "outputs": [],
   "source": [
    "judge_dict['judge_deepseek'] = [competitors[int(i)-1] for i in ranks]"
   ]
  },
  {
   "cell_type": "code",
   "execution_count": null,
   "id": "e243bbd3",
   "metadata": {},
   "outputs": [],
   "source": [
    "groq = OpenAI(api_key=groq_api_key, base_url=\"https://api.groq.com/openai/v1\")\n",
    "model_name = \"llama-3.3-70b-versatile\"\n",
    "\n",
    "response = groq.chat.completions.create(model=model_name, messages=judge_messages)\n",
    "judge_groq = response.choices[0].message.content"
   ]
  },
  {
   "cell_type": "code",
   "execution_count": null,
   "id": "2627a879",
   "metadata": {},
   "outputs": [],
   "source": [
    "results_dict = json.loads(judge_groq)\n",
    "ranks = results_dict[\"results\"]\n",
    "for index, result in enumerate(ranks):\n",
    "    competitor = competitors[int(result)-1]\n",
    "    print(f\"Rank {index+1}: {competitor}\")"
   ]
  },
  {
   "cell_type": "code",
   "execution_count": null,
   "id": "f153b7c2",
   "metadata": {},
   "outputs": [],
   "source": [
    "judge_dict['judge_groq'] = [competitors[int(i)-1] for i in ranks]"
   ]
  },
  {
   "cell_type": "code",
   "execution_count": null,
   "id": "61a6a625",
   "metadata": {},
   "outputs": [],
   "source": [
    "ollama = OpenAI(base_url='http://localhost:11434/v1', api_key='ollama')\n",
    "#model_name = \"llama3.2\"\n",
    "model_name =\"llama3\"\n",
    "\n",
    "response = ollama.chat.completions.create(model=model_name, messages=judge_messages)\n",
    "judge_ollama = response.choices[0].message.content\n",
    "\n",
    "print(judge_ollama)\n"
   ]
  },
  {
   "cell_type": "code",
   "execution_count": null,
   "id": "63328a1e",
   "metadata": {},
   "outputs": [],
   "source": [
    "results_dict = json.loads(judge_ollama)\n",
    "ranks = results_dict[\"ranked_order\"]\n",
    "for index, result in enumerate(ranks):\n",
    "    competitor = competitors[int(result)-1]\n",
    "    print(f\"Rank {index+1}: {competitor}\")"
   ]
  },
  {
   "cell_type": "code",
   "execution_count": null,
   "id": "38803832",
   "metadata": {},
   "outputs": [],
   "source": [
    "judge_dict['judge_ollama'] = [competitors[int(i)-1] for i in ranks]"
   ]
  },
  {
   "cell_type": "code",
   "execution_count": null,
   "id": "2110f9db",
   "metadata": {},
   "outputs": [],
   "source": [
    "judge_df = pd.DataFrame(judge_dict).T.reset_index()\n",
    "judge_df.columns = ['judges'] + list(range(1, len(judge_df.columns)))\n",
    "judge_df\n",
    "\n"
   ]
  },
  {
   "cell_type": "code",
   "execution_count": null,
   "id": "3cc8a78a",
   "metadata": {},
   "outputs": [],
   "source": [
    "df_melt = judge_df.melt(id_vars=\"judges\", var_name='Rank', value_name=\"llm\")\n",
    "df_melt.Rank = df_melt.Rank.astype(int)\n",
    "result = df_melt.pivot(index='llm', columns='judges', values='Rank').reset_index()\n",
    "result.columns.name = None\n",
    "result = result.set_index('llm')\n",
    "result['mean'] = result.mean(axis=1)\n",
    "result['median'] = result.median(axis=1)\n",
    "result = result.sort_values('mean')\n",
    "result['mean'] = result['mean'].map(lambda x: f\"{x:.1f}\")\n",
    "result['median'] = result['median'].astype(int)\n",
    "result.columns = [x.replace(\"judge_\",\"\") for x in result.columns.to_list()]\n",
    "result.columns = pd.MultiIndex.from_product([[\"Judges\"], result.columns])\n",
    "print(result.to_markdown())"
   ]
  },
  {
   "cell_type": "code",
   "execution_count": null,
   "id": "71bce5ea",
   "metadata": {},
   "outputs": [],
   "source": [
    "print([x.replace(\"\")])"
   ]
  },
  {
   "cell_type": "code",
   "execution_count": null,
   "id": "36391b69",
   "metadata": {},
   "outputs": [],
   "source": [
    "result.T"
   ]
  },
  {
   "cell_type": "markdown",
   "id": "a8e8a8a2",
   "metadata": {},
   "source": [
    "Mean Rank is Borda Count - sensitive to extremes\n",
    "Median Rank is robust to outliers (e.g., ollama ranking gemini-2.0-flash as 5 when others say 1)"
   ]
  },
  {
   "cell_type": "code",
   "execution_count": null,
   "id": "bb80bd75",
   "metadata": {},
   "outputs": [],
   "source": [
    "#Use RRF if you care more about being ranked highly than low rankings.\n",
    "def RecipricalRankFusion(df, k=60):\n",
    "    scores = {}\n",
    "    for llm in df.index:\n",
    "        score = 0\n",
    "        for col in df.columns:\n",
    "            if col in [\"mean\", \"median\"]:\n",
    "                continue\n",
    "            score += 1 / (k + df.at[llm, col])\n",
    "        scores[llm] = score\n",
    "    return pd.Series(scores).sort_values(ascending=False)\n",
    "\n",
    "rrf_scores = RecipricalRankFusion(result)\n",
    "print(rrf_scores)"
   ]
  },
  {
   "cell_type": "code",
   "execution_count": null,
   "id": "597c29ee",
   "metadata": {},
   "outputs": [],
   "source": [
    "#Plurality Vote (Top-N voting)\n",
    "(result.iloc[:, :-2] ==1).sum(axis=1).sort_values(ascending=False)"
   ]
  },
  {
   "cell_type": "code",
   "execution_count": null,
   "id": "93cb07f9",
   "metadata": {},
   "outputs": [],
   "source": [
    "Have to discount Ollama as less trustworthy (e.g. smaller model). So lean on median rank."
   ]
  }
 ],
 "metadata": {
  "kernelspec": {
   "display_name": ".venv",
   "language": "python",
   "name": "python3"
  },
  "language_info": {
   "codemirror_mode": {
    "name": "ipython",
    "version": 3
   },
   "file_extension": ".py",
   "mimetype": "text/x-python",
   "name": "python",
   "nbconvert_exporter": "python",
   "pygments_lexer": "ipython3",
   "version": "3.12.11"
  }
 },
 "nbformat": 4,
 "nbformat_minor": 5
}
