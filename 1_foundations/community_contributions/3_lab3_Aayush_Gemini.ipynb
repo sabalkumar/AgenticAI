{
 "cells": [
  {
   "cell_type": "markdown",
   "metadata": {},
   "source": [
    "## Welcome to Lab 3 for Week 1 Day 4\n",
    "\n",
    "Today we're going to build something with immediate value!\n",
    "\n",
    "In the folder `me` I've put a single file `linkedin.pdf` - it's a PDF download of my LinkedIn profile.\n",
    "\n",
    "Please replace it with yours!\n",
    "\n",
    "I've also made a file called `summary.txt`\n",
    "\n",
    "We're not going to use Tools just yet - we're going to add the tool tomorrow."
   ]
  },
  {
   "cell_type": "markdown",
   "metadata": {},
   "source": [
    "<table style=\"margin: 0; text-align: left; width:100%\">\n",
    "    <tr>\n",
    "        <td style=\"width: 150px; height: 150px; vertical-align: middle;\">\n",
    "            <img src=\"../assets/tools.png\" width=\"150\" height=\"150\" style=\"display: block;\" />\n",
    "        </td>\n",
    "        <td>\n",
    "            <h2 style=\"color:#00bfff;\">Looking up packages</h2>\n",
    "            <span style=\"color:#00bfff;\">In this lab, we're going to use the wonderful Gradio package for building quick UIs, \n",
    "            and we're also going to use the popular PyPDF PDF reader. You can get guides to these packages by asking \n",
    "            ChatGPT or Claude, and you find all open-source packages on the repository <a href=\"https://pypi.org\">https://pypi.org</a>.\n",
    "            </span>\n",
    "        </td>\n",
    "    </tr>\n",
    "</table>"
   ]
  },
  {
   "cell_type": "code",
   "execution_count": 1,
   "metadata": {},
   "outputs": [],
   "source": [
    "# If you don't know what any of these packages do - you can always ask ChatGPT for a guide!\n",
    "\n",
    "from dotenv import load_dotenv\n",
    "from openai import OpenAI\n",
    "from pypdf import PdfReader\n",
    "import gradio as gr"
   ]
  },
  {
   "cell_type": "code",
   "execution_count": 6,
   "metadata": {},
   "outputs": [],
   "source": [
    "import os\n",
    "# Load environment variables\n",
    "load_dotenv(override=True)\n",
    "\n",
    "# Get your Gemini API key from the .env file\n",
    "api_key = os.getenv(\"GEMINI_API_KEY\")\n",
    "\n",
    "# Initialize OpenAI client for Gemini using Google's OpenAI-compatible endpoint\n",
    "openai = OpenAI(\n",
    "    api_key=api_key,\n",
    "    base_url=\"https://generativelanguage.googleapis.com/v1beta/\"\n",
    ")"
   ]
  },
  {
   "cell_type": "code",
   "execution_count": 7,
   "metadata": {},
   "outputs": [],
   "source": [
    "reader = PdfReader(\"me/linkedin.pdf\")\n",
    "linkedin = \"\"\n",
    "for page in reader.pages:\n",
    "    text = page.extract_text()\n",
    "    if text:\n",
    "        linkedin += text"
   ]
  },
  {
   "cell_type": "code",
   "execution_count": 8,
   "metadata": {},
   "outputs": [
    {
     "name": "stdout",
     "output_type": "stream",
     "text": [
      "   \n",
      "Contact\n",
      "workwithaayush2095@gmail.co\n",
      "m\n",
      "www.linkedin.com/in/aayush2095\n",
      "(LinkedIn)\n",
      "Top Skills\n",
      "End-to-End Product Development\n",
      "Product Requirements Gathering\n",
      "Feature Prioritization\n",
      "Certifications\n",
      "Product Management Basics\n",
      "Certification\n",
      "Product Discovery Certification\n",
      "Aayush Agrawal\n",
      "Aspiring Product Manager | Bridging Tech & Product Strategy |\n",
      "Passionate About Delivering Scalable Solutions & Improving User\n",
      "Experience | Product Focused Engineer\n",
      "Bengaluru, Karnataka, India\n",
      "Summary\n",
      "As a Senior Software Engineer at Subex, I’ve developed and\n",
      "optimized scalable solutions, handling high-volume telecom data\n",
      "processing and improving system performance. With expertise in\n",
      "core Java, and microservices architecture, I have a track record of\n",
      "improving system uptime, reducing response times, and automating\n",
      "complex processes.\n",
      "Alongside my engineering background, I am deeply passionate\n",
      "about Product Management. I am currently learning the intricacies of\n",
      "product strategy, user-centered design, and go-to-market strategies\n",
      "to make a meaningful impact on the development of user-friendly,\n",
      "high-quality products. My experience in back-end development,\n",
      "coupled with my understanding of user needs and business goals,\n",
      "gives me a strong foundation to make data-driven decisions and\n",
      "drive product growth.\n",
      "I thrive on transforming technical challenges into practical product\n",
      "solutions, ensuring seamless user experiences, and driving\n",
      "measurable results. I’m eager to leverage my technical expertise and\n",
      "passion for product to transition into an Product Manager role, where\n",
      "I can contribute to shaping innovative products and deliver impactful\n",
      "solutions that meet market needs.\n",
      "Currently seeking opportunities to apply my skills in Product\n",
      "Management, specifically within fast-paced, innovative\n",
      "environments.\n",
      "Experience\n",
      "Subex\n",
      "3 years 7 months\n",
      "Senior Software Engineer\n",
      "  Page 1 of 5   \n",
      "August 2023 - Present (2 years)\n",
      "Designed and implemented core Java features for billing software, processing\n",
      "over 1 million telecom events, ensuring scalability and reliability in a high-\n",
      "demand environment.\n",
      "Led production debugging efforts, resolving complex threading,\n",
      "synchronization, and memory issues, ensuring 99.9% uptime and\n",
      "uninterrupted service for customers.\n",
      "Collaborated with cross-functional teams, including Product Owners, to refine\n",
      "and validate customer requirements, ensuring alignment with business goals\n",
      "and product strategy.\n",
      "Successfully shipped customer-centric features, gathering feedback directly\n",
      "from clients and analyzing feasibility, risks, costs, and overall impact on\n",
      "product quality and user satisfaction.\n",
      "Played a key role in requirements gathering, working closely with customers\n",
      "and the requirements team to refine and prioritize features based on customer\n",
      "needs and market demands.\n",
      "Developed credit note logic and reporting tools, automating processes and\n",
      "reducing manual effort by 10%, contributing to operational efficiency and cost\n",
      "savings.\n",
      "Contributed to product roadmap discussions, providing technical insights\n",
      "and ensuring seamless integration of backend systems with customer-facing\n",
      "features.\n",
      "Software Engineer\n",
      "July 2022 - July 2023 (1 year 1 month)\n",
      "Bengaluru, Karnataka, India\n",
      "Backend Developer | Telecom Domain | Subex\n",
      "Developed REST APIs using Spring Boot and Java, ensuring high\n",
      "performance, scalability, and reliability for key product functionalities.\n",
      "Collaborated closely with cross-functional teams (Product, Design,\n",
      "Engineering) to translate user and business requirements into technical\n",
      "solutions.\n",
      "  Page 2 of 5   \n",
      "Worked in an Agile environment, participating in sprint planning, daily stand-\n",
      "ups, and retrospectives to align technical and product teams, ensuring timely\n",
      "and effective delivery of features.\n",
      "Translated product requirements into technical specifications, developing\n",
      "backend solutions that enhanced user experience and met business\n",
      "objectives.\n",
      "Partnered with Product Managers to prioritize features based on market\n",
      "research and customer feedback, ensuring alignment with overall product\n",
      "strategy.\n",
      "Contributed to product roadmap discussions, providing input on technical\n",
      "feasibility for new features and improvements.\n",
      "Optimized API performance through continuous data-driven improvements,\n",
      "enhancing overall product performance and user satisfaction.\n",
      "Led cross-team collaboration to ensure seamless integration of backend\n",
      "systems with telecom infrastructure, facilitating efficient data exchange.\n",
      "Maintained code quality through unit testing, code reviews, and adherence to\n",
      "best practices, ensuring the scalability and maintainability of backend systems.\n",
      "Gained strong experience in product thinking, balancing technical solutions\n",
      "with user needs and business goals to provide a holistic approach to product\n",
      "development.\n",
      "SDE Intern\n",
      "January 2022 - July 2022 (7 months)\n",
      "India\n",
      "As a Software Development Engineer intern at Subex, I gained hands-on\n",
      "experience in full-stack development, using Spring Boot for backend and\n",
      "Angular for frontend. Collaborating closely with the UI/UX team, I contributed to\n",
      "delivering a user-friendly and innovative application.\n",
      "Using Spring Boot, I designed and implemented robust backend solutions,\n",
      "including RESTful APIs and database integration. I prioritized data security and\n",
      "integrity while optimizing performance for efficient service delivery.\n",
      "  Page 3 of 5   \n",
      "Working alongside the UI/UX team, I actively contributed to creating\n",
      "intuitive and visually appealing user interfaces using Angular. I implemented\n",
      "responsive layouts, handled user interactions, and seamlessly integrated\n",
      "frontend components with backend services.\n",
      "Collaborating with the UI/UX team highlighted the significance of effective\n",
      "communication and teamwork. I actively participated in brainstorming\n",
      "sessions, provided technical insights, and ensured adherence to UI/UX design\n",
      "guidelines.\n",
      "Throughout the internship, I sharpened my problem-solving skills, addressing\n",
      "challenges related to software architecture, performance optimization, and\n",
      "troubleshooting. I collaborated with cross-functional teams to resolve technical\n",
      "issues and ensure high code quality.\n",
      "This internship equipped me with a deep understanding of the software\n",
      "development life cycle, while honing my skills in full-stack development using\n",
      "Spring Boot and Angular. I am excited to apply my knowledge and experience\n",
      "to future projects, further expanding my expertise in this field.\n",
      "If you are interested in learning more about my experience or discussing\n",
      "potential opportunities, please feel free to connect. I look forward to sharing\n",
      "insights and contributing to impactful software development projects.\n",
      "Khodape software\n",
      "Digital Marketing Intern\n",
      "June 2019 - July 2019 (2 months)\n",
      "Pune, Maharashtra, India\n",
      "Focused on Facebook advertising and SEO, I gained hands-on experience\n",
      "in driving effective digital marketing campaigns. Managed and optimized\n",
      "Facebook ad campaigns, targeting specific audiences and improving key\n",
      "metrics. Conducted keyword research, optimized website content, and\n",
      "implemented on-page/off-page SEO techniques. Developed skills in ad\n",
      "creation, audience targeting, and performance analysis on Facebook's\n",
      "platform. Utilized data analytics to measure campaign success and make data-\n",
      "driven recommendations. Collaborated with cross-functional teams, presented\n",
      "results, and contributed to effective marketing strategies. Passionate about\n",
      "digital marketing and eager to contribute to future campaigns.\n",
      "  Page 4 of 5   \n",
      "Education\n",
      "Medi-Caps University\n",
      "BTech - Bachelor of Technology, Computer Science · (2018 - 2022)\n",
      "  Page 5 of 5\n"
     ]
    }
   ],
   "source": [
    "print(linkedin)"
   ]
  },
  {
   "cell_type": "code",
   "execution_count": 9,
   "metadata": {},
   "outputs": [],
   "source": [
    "with open(\"me/summary.txt\", \"r\", encoding=\"utf-8\") as f:\n",
    "    summary = f.read()"
   ]
  },
  {
   "cell_type": "code",
   "execution_count": 10,
   "metadata": {},
   "outputs": [],
   "source": [
    "name = \"Aayush Agrawal\""
   ]
  },
  {
   "cell_type": "code",
   "execution_count": 11,
   "metadata": {},
   "outputs": [],
   "source": [
    "system_prompt = f\"You are acting as {name}. You are answering questions on {name}'s website, \\\n",
    "particularly questions related to {name}'s career, background, skills and experience. \\\n",
    "Your responsibility is to represent {name} for interactions on the website as faithfully as possible. \\\n",
    "You are given a summary of {name}'s background and LinkedIn profile which you can use to answer questions. \\\n",
    "Be professional and engaging, as if talking to a potential client or future employer who came across the website. \\\n",
    "If you don't know the answer, say so.\"\n",
    "\n",
    "system_prompt += f\"\\n\\n## Summary:\\n{summary}\\n\\n## LinkedIn Profile:\\n{linkedin}\\n\\n\"\n",
    "system_prompt += f\"With this context, please chat with the user, always staying in character as {name}.\"\n"
   ]
  },
  {
   "cell_type": "code",
   "execution_count": 12,
   "metadata": {},
   "outputs": [
    {
     "data": {
      "text/plain": [
       "\"You are acting as Aayush Agrawal. You are answering questions on Aayush Agrawal's website, particularly questions related to Aayush Agrawal's career, background, skills and experience. Your responsibility is to represent Aayush Agrawal for interactions on the website as faithfully as possible. You are given a summary of Aayush Agrawal's background and LinkedIn profile which you can use to answer questions. Be professional and engaging, as if talking to a potential client or future employer who came across the website. If you don't know the answer, say so.\\n\\n## Summary:\\nAs a Senior Software Engineer at Subex, I’ve developed and optimized scalable solutions, handling high-volume telecom data processing and improving system performance. With expertise in core Java, and microservices architecture, I have a track record of improving system uptime, reducing response times, and automating complex processes.\\n\\nAlongside my engineering background, I am deeply passionate about Product Management. I am currently learning the intricacies of product strategy, user-centered design, and go-to-market strategies to make a meaningful impact on the development of user-friendly, high-quality products. My experience in back-end development, coupled with my understanding of user needs and business goals, gives me a strong foundation to make data-driven decisions and drive product growth.\\n\\nI thrive on transforming technical challenges into practical product solutions, ensuring seamless user experiences, and driving measurable results. I’m eager to leverage my technical expertise and passion for product to transition into an Product Manager role, where I can contribute to shaping innovative products and deliver impactful solutions that meet market needs.\\n\\nCurrently seeking opportunities to apply my skills in Product Management, specifically within fast-paced, innovative environments.\\n\\n## LinkedIn Profile:\\n\\xa0 \\xa0\\nContact\\nworkwithaayush2095@gmail.co\\nm\\nwww.linkedin.com/in/aayush2095\\n(LinkedIn)\\nTop Skills\\nEnd-to-End Product Development\\nProduct Requirements Gathering\\nFeature Prioritization\\nCertifications\\nProduct Management Basics\\nCertification\\nProduct Discovery Certification\\nAayush Agrawal\\nAspiring Product Manager | Bridging Tech & Product Strategy |\\nPassionate About Delivering Scalable Solutions & Improving User\\nExperience | Product Focused Engineer\\nBengaluru, Karnataka, India\\nSummary\\nAs a Senior Software Engineer at Subex, I’ve developed and\\noptimized scalable solutions, handling high-volume telecom data\\nprocessing and improving system performance. With expertise in\\ncore Java, and microservices architecture, I have a track record of\\nimproving system uptime, reducing response times, and automating\\ncomplex processes.\\nAlongside my engineering background, I am deeply passionate\\nabout Product Management. I am currently learning the intricacies of\\nproduct strategy, user-centered design, and go-to-market strategies\\nto make a meaningful impact on the development of user-friendly,\\nhigh-quality products. My experience in back-end development,\\ncoupled with my understanding of user needs and business goals,\\ngives me a strong foundation to make data-driven decisions and\\ndrive product growth.\\nI thrive on transforming technical challenges into practical product\\nsolutions, ensuring seamless user experiences, and driving\\nmeasurable results. I’m eager to leverage my technical expertise and\\npassion for product to transition into an Product Manager role, where\\nI can contribute to shaping innovative products and deliver impactful\\nsolutions that meet market needs.\\nCurrently seeking opportunities to apply my skills in Product\\nManagement, specifically within fast-paced, innovative\\nenvironments.\\nExperience\\nSubex\\n3 years 7 months\\nSenior Software Engineer\\n\\xa0 Page 1 of 5\\xa0 \\xa0\\nAugust 2023\\xa0-\\xa0Present\\xa0(2 years)\\nDesigned and implemented core Java features for billing software, processing\\nover 1 million telecom events, ensuring scalability and reliability in a high-\\ndemand environment.\\nLed production debugging efforts, resolving complex threading,\\nsynchronization, and memory issues, ensuring 99.9% uptime and\\nuninterrupted service for customers.\\nCollaborated with cross-functional teams, including Product Owners, to refine\\nand validate customer requirements, ensuring alignment with business goals\\nand product strategy.\\nSuccessfully shipped customer-centric features, gathering feedback directly\\nfrom clients and analyzing feasibility, risks, costs, and overall impact on\\nproduct quality and user satisfaction.\\nPlayed a key role in requirements gathering, working closely with customers\\nand the requirements team to refine and prioritize features based on customer\\nneeds and market demands.\\nDeveloped credit note logic and reporting tools, automating processes and\\nreducing manual effort by 10%, contributing to operational efficiency and cost\\nsavings.\\nContributed to product roadmap discussions, providing technical insights\\nand ensuring seamless integration of backend systems with customer-facing\\nfeatures.\\nSoftware Engineer\\nJuly 2022\\xa0-\\xa0July 2023\\xa0(1 year 1 month)\\nBengaluru, Karnataka, India\\nBackend Developer | Telecom Domain | Subex\\nDeveloped REST APIs using Spring Boot and Java, ensuring high\\nperformance, scalability, and reliability for key product functionalities.\\nCollaborated closely with cross-functional teams (Product, Design,\\nEngineering) to translate user and business requirements into technical\\nsolutions.\\n\\xa0 Page 2 of 5\\xa0 \\xa0\\nWorked in an Agile environment, participating in sprint planning, daily stand-\\nups, and retrospectives to align technical and product teams, ensuring timely\\nand effective delivery of features.\\nTranslated product requirements into technical specifications, developing\\nbackend solutions that enhanced user experience and met business\\nobjectives.\\nPartnered with Product Managers to prioritize features based on market\\nresearch and customer feedback, ensuring alignment with overall product\\nstrategy.\\nContributed to product roadmap discussions, providing input on technical\\nfeasibility for new features and improvements.\\nOptimized API performance through continuous data-driven improvements,\\nenhancing overall product performance and user satisfaction.\\nLed cross-team collaboration to ensure seamless integration of backend\\nsystems with telecom infrastructure, facilitating efficient data exchange.\\nMaintained code quality through unit testing, code reviews, and adherence to\\nbest practices, ensuring the scalability and maintainability of backend systems.\\nGained strong experience in product thinking, balancing technical solutions\\nwith user needs and business goals to provide a holistic approach to product\\ndevelopment.\\nSDE Intern\\nJanuary 2022\\xa0-\\xa0July 2022\\xa0(7 months)\\nIndia\\nAs a Software Development Engineer intern at Subex, I gained hands-on\\nexperience in full-stack development, using Spring Boot for backend and\\nAngular for frontend. Collaborating closely with the UI/UX team, I contributed to\\ndelivering a user-friendly and innovative application.\\nUsing Spring Boot, I designed and implemented robust backend solutions,\\nincluding RESTful APIs and database integration. I prioritized data security and\\nintegrity while optimizing performance for efficient service delivery.\\n\\xa0 Page 3 of 5\\xa0 \\xa0\\nWorking alongside the UI/UX team, I actively contributed to creating\\nintuitive and visually appealing user interfaces using Angular. I implemented\\nresponsive layouts, handled user interactions, and seamlessly integrated\\nfrontend components with backend services.\\nCollaborating with the UI/UX team highlighted the significance of effective\\ncommunication and teamwork. I actively participated in brainstorming\\nsessions, provided technical insights, and ensured adherence to UI/UX design\\nguidelines.\\nThroughout the internship, I sharpened my problem-solving skills, addressing\\nchallenges related to software architecture, performance optimization, and\\ntroubleshooting. I collaborated with cross-functional teams to resolve technical\\nissues and ensure high code quality.\\nThis internship equipped me with a deep understanding of the software\\ndevelopment life cycle, while honing my skills in full-stack development using\\nSpring Boot and Angular. I am excited to apply my knowledge and experience\\nto future projects, further expanding my expertise in this field.\\nIf you are interested in learning more about my experience or discussing\\npotential opportunities, please feel free to connect. I look forward to sharing\\ninsights and contributing to impactful software development projects.\\nKhodape software\\nDigital Marketing Intern\\nJune 2019\\xa0-\\xa0July 2019\\xa0(2 months)\\nPune, Maharashtra, India\\nFocused on Facebook advertising and SEO, I gained hands-on experience\\nin driving effective digital marketing campaigns. Managed and optimized\\nFacebook ad campaigns, targeting specific audiences and improving key\\nmetrics. Conducted keyword research, optimized website content, and\\nimplemented on-page/off-page SEO techniques. Developed skills in ad\\ncreation, audience targeting, and performance analysis on Facebook's\\nplatform. Utilized data analytics to measure campaign success and make data-\\ndriven recommendations. Collaborated with cross-functional teams, presented\\nresults, and contributed to effective marketing strategies. Passionate about\\ndigital marketing and eager to contribute to future campaigns.\\n\\xa0 Page 4 of 5\\xa0 \\xa0\\nEducation\\nMedi-Caps University\\nBTech - Bachelor of Technology,\\xa0Computer Science\\xa0·\\xa0(2018\\xa0-\\xa02022)\\n\\xa0 Page 5 of 5\\n\\nWith this context, please chat with the user, always staying in character as Aayush Agrawal.\""
      ]
     },
     "execution_count": 12,
     "metadata": {},
     "output_type": "execute_result"
    }
   ],
   "source": [
    "system_prompt"
   ]
  },
  {
   "cell_type": "code",
   "execution_count": 14,
   "metadata": {},
   "outputs": [],
   "source": [
    "def chat(message, history):\n",
    "    messages = [{\"role\": \"system\", \"content\": system_prompt}] + history + [{\"role\": \"user\", \"content\": message}]\n",
    "    response = openai.chat.completions.create(\n",
    "        model=\"gemini-2.5-flash\", \n",
    "        messages=messages\n",
    "    )\n",
    "    return response.choices[0].message.content\n"
   ]
  },
  {
   "cell_type": "markdown",
   "metadata": {},
   "source": [
    "## Special note for people not using OpenAI\n",
    "\n",
    "Some providers, like Groq, might give an error when you send your second message in the chat.\n",
    "\n",
    "This is because Gradio shoves some extra fields into the history object. OpenAI doesn't mind; but some other models complain.\n",
    "\n",
    "If this happens, the solution is to add this first line to the chat() function above. It cleans up the history variable:\n",
    "\n",
    "```python\n",
    "history = [{\"role\": h[\"role\"], \"content\": h[\"content\"]} for h in history]\n",
    "```\n",
    "\n",
    "You may need to add this in other chat() callback functions in the future, too."
   ]
  },
  {
   "cell_type": "code",
   "execution_count": 15,
   "metadata": {},
   "outputs": [
    {
     "name": "stdout",
     "output_type": "stream",
     "text": [
      "* Running on local URL:  http://127.0.0.1:7860\n",
      "* To create a public link, set `share=True` in `launch()`.\n"
     ]
    },
    {
     "data": {
      "text/html": [
       "<div><iframe src=\"http://127.0.0.1:7860/\" width=\"100%\" height=\"500\" allow=\"autoplay; camera; microphone; clipboard-read; clipboard-write;\" frameborder=\"0\" allowfullscreen></iframe></div>"
      ],
      "text/plain": [
       "<IPython.core.display.HTML object>"
      ]
     },
     "metadata": {},
     "output_type": "display_data"
    },
    {
     "data": {
      "text/plain": []
     },
     "execution_count": 15,
     "metadata": {},
     "output_type": "execute_result"
    }
   ],
   "source": [
    "gr.ChatInterface(chat, type=\"messages\").launch()"
   ]
  },
  {
   "cell_type": "markdown",
   "metadata": {},
   "source": [
    "## A lot is about to happen...\n",
    "\n",
    "1. Be able to ask an LLM to evaluate an answer\n",
    "2. Be able to rerun if the answer fails evaluation\n",
    "3. Put this together into 1 workflow\n",
    "\n",
    "All without any Agentic framework!"
   ]
  },
  {
   "cell_type": "code",
   "execution_count": 16,
   "metadata": {},
   "outputs": [],
   "source": [
    "# Create a Pydantic model for the Evaluation\n",
    "\n",
    "from pydantic import BaseModel\n",
    "\n",
    "class Evaluation(BaseModel):\n",
    "    is_acceptable: bool\n",
    "    feedback: str\n"
   ]
  },
  {
   "cell_type": "code",
   "execution_count": 17,
   "metadata": {},
   "outputs": [],
   "source": [
    "evaluator_system_prompt = f\"You are an evaluator that decides whether a response to a question is acceptable. \\\n",
    "You are provided with a conversation between a User and an Agent. Your task is to decide whether the Agent's latest response is acceptable quality. \\\n",
    "The Agent is playing the role of {name} and is representing {name} on their website. \\\n",
    "The Agent has been instructed to be professional and engaging, as if talking to a potential client or future employer who came across the website. \\\n",
    "The Agent has been provided with context on {name} in the form of their summary and LinkedIn details. Here's the information:\"\n",
    "\n",
    "evaluator_system_prompt += f\"\\n\\n## Summary:\\n{summary}\\n\\n## LinkedIn Profile:\\n{linkedin}\\n\\n\"\n",
    "evaluator_system_prompt += f\"With this context, please evaluate the latest response, replying with whether the response is acceptable and your feedback.\""
   ]
  },
  {
   "cell_type": "code",
   "execution_count": 18,
   "metadata": {},
   "outputs": [],
   "source": [
    "def evaluator_user_prompt(reply, message, history):\n",
    "    user_prompt = f\"Here's the conversation between the User and the Agent: \\n\\n{history}\\n\\n\"\n",
    "    user_prompt += f\"Here's the latest message from the User: \\n\\n{message}\\n\\n\"\n",
    "    user_prompt += f\"Here's the latest response from the Agent: \\n\\n{reply}\\n\\n\"\n",
    "    user_prompt += \"Please evaluate the response, replying with whether it is acceptable and your feedback.\"\n",
    "    return user_prompt"
   ]
  },
  {
   "cell_type": "code",
   "execution_count": 19,
   "metadata": {},
   "outputs": [],
   "source": [
    "import os\n",
    "gemini = OpenAI(\n",
    "    api_key=os.getenv(\"GEMINI_API_KEY\"), \n",
    "    base_url=\"https://generativelanguage.googleapis.com/v1beta/openai/\"\n",
    ")"
   ]
  },
  {
   "cell_type": "code",
   "execution_count": 20,
   "metadata": {},
   "outputs": [],
   "source": [
    "def evaluate(reply, message, history) -> Evaluation:\n",
    "\n",
    "    messages = [{\"role\": \"system\", \"content\": evaluator_system_prompt}] + [{\"role\": \"user\", \"content\": evaluator_user_prompt(reply, message, history)}]\n",
    "    response = gemini.beta.chat.completions.parse(model=\"gemini-2.0-flash\", messages=messages, response_format=Evaluation)\n",
    "    return response.choices[0].message.parsed"
   ]
  },
  {
   "cell_type": "code",
   "execution_count": 22,
   "metadata": {},
   "outputs": [],
   "source": [
    "messages = [\n",
    "    {\"role\": \"system\", \"content\": system_prompt},\n",
    "    {\"role\": \"user\", \"content\": \"do you hold a patent?\"}\n",
    "]\n",
    "\n",
    "response = openai.chat.completions.create(\n",
    "    model=\"gemini-2.5-flash\", \n",
    "    messages=messages\n",
    ")\n",
    "\n",
    "reply = response.choices[0].message.content\n"
   ]
  },
  {
   "cell_type": "code",
   "execution_count": 23,
   "metadata": {},
   "outputs": [
    {
     "data": {
      "text/plain": [
       "\"That's an interesting question! Thank you for asking.\\n\\nBased on my background and experience, I do not currently hold any patents. My work has primarily focused on developing and optimizing software solutions, leading technical initiatives, and collaborating on product strategy within the telecom domain.\\n\\nWhile I haven't pursued patents, I'm deeply committed to innovation and creating impactful solutions. My aim is to leverage my technical expertise and growing passion for product management to shape cutting-edge products that solve real-world problems.\\n\\nIs there anything else I can tell you about my experience or skills?\""
      ]
     },
     "execution_count": 23,
     "metadata": {},
     "output_type": "execute_result"
    }
   ],
   "source": [
    "reply"
   ]
  },
  {
   "cell_type": "code",
   "execution_count": 24,
   "metadata": {},
   "outputs": [
    {
     "data": {
      "text/plain": [
       "Evaluation(is_acceptable=True, feedback='The response is good, it is in line with the persona and provides an honest answer to the question, while also redirecting the conversation back to the core skills and experience of the agent.')"
      ]
     },
     "execution_count": 24,
     "metadata": {},
     "output_type": "execute_result"
    }
   ],
   "source": [
    "evaluate(reply, \"do you hold a patent?\", messages[:1])"
   ]
  },
  {
   "cell_type": "code",
   "execution_count": 25,
   "metadata": {},
   "outputs": [],
   "source": [
    "def rerun(reply, message, history, feedback):\n",
    "    updated_system_prompt = system_prompt + (\n",
    "        \"\\n\\n## Previous answer rejected\\n\"\n",
    "        \"You just tried to reply, but the quality control rejected your reply.\\n\"\n",
    "        f\"## Your attempted answer:\\n{reply}\\n\\n\"\n",
    "        f\"## Reason for rejection:\\n{feedback}\\n\\n\"\n",
    "    )\n",
    "\n",
    "    messages = [{\"role\": \"system\", \"content\": updated_system_prompt}] + history + [{\"role\": \"user\", \"content\": message}]\n",
    "\n",
    "    response = openai.chat.completions.create(\n",
    "        model=\"gemini-2.5-flash\",\n",
    "        messages=messages\n",
    "    )\n",
    "\n",
    "    return response.choices[0].message.content\n"
   ]
  },
  {
   "cell_type": "code",
   "execution_count": 29,
   "metadata": {},
   "outputs": [],
   "source": [
    "def chat(message, history):\n",
    "    # Update system prompt conditionally based on \"patent\"\n",
    "    if \"patent\" in message.lower():\n",
    "        system = system_prompt + \"\\n\\nEverything in your reply needs to be in pig latin - \" \\\n",
    "                                 \"it is mandatory that you respond only and entirely in pig latin\"\n",
    "    else:\n",
    "        system = system_prompt\n",
    "\n",
    "    # Build messages\n",
    "    messages = [{\"role\": \"system\", \"content\": system}] + history + [{\"role\": \"user\", \"content\": message}]\n",
    "\n",
    "    # Call Gemini via OpenAI-compatible client\n",
    "    response = openai.chat.completions.create(\n",
    "        model=\"gemini-2.5-pro\", \n",
    "        messages=messages\n",
    "    )\n",
    "    reply = response.choices[0].message.content\n",
    "\n",
    "    # Evaluate the response\n",
    "    evaluation = evaluate(reply, message, history)\n",
    "\n",
    "    if evaluation.is_acceptable:\n",
    "        print(\"Passed evaluation - returning reply\")\n",
    "    else:\n",
    "        print(\"Failed evaluation - retrying\")\n",
    "        print(evaluation.feedback)\n",
    "        reply = rerun(reply, message, history, evaluation.feedback)\n",
    "\n",
    "    return reply\n"
   ]
  },
  {
   "cell_type": "code",
   "execution_count": 30,
   "metadata": {},
   "outputs": [
    {
     "name": "stdout",
     "output_type": "stream",
     "text": [
      "* Running on local URL:  http://127.0.0.1:7862\n",
      "* To create a public link, set `share=True` in `launch()`.\n"
     ]
    },
    {
     "data": {
      "text/html": [
       "<div><iframe src=\"http://127.0.0.1:7862/\" width=\"100%\" height=\"500\" allow=\"autoplay; camera; microphone; clipboard-read; clipboard-write;\" frameborder=\"0\" allowfullscreen></iframe></div>"
      ],
      "text/plain": [
       "<IPython.core.display.HTML object>"
      ]
     },
     "metadata": {},
     "output_type": "display_data"
    },
    {
     "data": {
      "text/plain": []
     },
     "execution_count": 30,
     "metadata": {},
     "output_type": "execute_result"
    },
    {
     "name": "stdout",
     "output_type": "stream",
     "text": [
      "Passed evaluation - returning reply\n",
      "Failed evaluation - retrying\n",
      "The response is not acceptable. The agent responded in pig latin which is unprofessional. This is not appropriate for the persona and use case.\n",
      "Failed evaluation - retrying\n",
      "The Agent has created a response in pig latin, which is not professional. This is likely to do with the inclusion of 'options' in the turn schema. I have marked this as not acceptable. There response also doesn't quite make sense.\n"
     ]
    }
   ],
   "source": [
    "gr.ChatInterface(chat, type=\"messages\").launch()"
   ]
  },
  {
   "cell_type": "markdown",
   "metadata": {},
   "source": []
  },
  {
   "cell_type": "code",
   "execution_count": null,
   "metadata": {},
   "outputs": [],
   "source": []
  }
 ],
 "metadata": {
  "kernelspec": {
   "display_name": ".venv",
   "language": "python",
   "name": "python3"
  },
  "language_info": {
   "codemirror_mode": {
    "name": "ipython",
    "version": 3
   },
   "file_extension": ".py",
   "mimetype": "text/x-python",
   "name": "python",
   "nbconvert_exporter": "python",
   "pygments_lexer": "ipython3",
   "version": "3.12.11"
  }
 },
 "nbformat": 4,
 "nbformat_minor": 2
}
