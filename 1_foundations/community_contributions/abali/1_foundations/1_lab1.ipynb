{
 "cells": [
  {
   "cell_type": "markdown",
   "metadata": {},
   "source": [
    "# Welcome to the start of your adventure in Agentic AI"
   ]
  },
  {
   "cell_type": "markdown",
   "metadata": {},
   "source": [
    "<table style=\"margin: 0; text-align: left; width:100%\">\n",
    "    <tr>\n",
    "        <td style=\"width: 150px; height: 150px; vertical-align: middle;\">\n",
    "            <img src=\"../assets/stop.png\" width=\"150\" height=\"150\" style=\"display: block;\" />\n",
    "        </td>\n",
    "        <td>\n",
    "            <h2 style=\"color:#ff7800;\">Are you ready for action??</h2>\n",
    "            <span style=\"color:#ff7800;\">Have you completed all the setup steps in the <a href=\"../setup/\">setup</a> folder?<br/>\n",
    "            Have you read the <a href=\"../README.md\">README</a>? Many common questions are answered here!<br/>\n",
    "            Have you checked out the guides in the <a href=\"../guides/01_intro.ipynb\">guides</a> folder?<br/>\n",
    "            Well in that case, you're ready!!\n",
    "            </span>\n",
    "        </td>\n",
    "    </tr>\n",
    "</table>"
   ]
  },
  {
   "cell_type": "markdown",
   "metadata": {},
   "source": [
    "<table style=\"margin: 0; text-align: left; width:100%\">\n",
    "    <tr>\n",
    "        <td style=\"width: 150px; height: 150px; vertical-align: middle;\">\n",
    "            <img src=\"../assets/tools.png\" width=\"150\" height=\"150\" style=\"display: block;\" />\n",
    "        </td>\n",
    "        <td>\n",
    "            <h2 style=\"color:#00bfff;\">This code is a live resource - keep an eye out for my updates</h2>\n",
    "            <span style=\"color:#00bfff;\">I push updates regularly. As people ask questions or have problems, I add more examples and improve explanations. As a result, the code below might not be identical to the videos, as I've added more steps and better comments. Consider this like an interactive book that accompanies the lectures.<br/><br/>\n",
    "            I try to send emails regularly with important updates related to the course. You can find this in the 'Announcements' section of Udemy in the left sidebar. You can also choose to receive my emails via your Notification Settings in Udemy. I'm respectful of your inbox and always try to add value with my emails!\n",
    "            </span>\n",
    "        </td>\n",
    "    </tr>\n",
    "</table>"
   ]
  },
  {
   "cell_type": "markdown",
   "metadata": {},
   "source": [
    "### And please do remember to contact me if I can help\n",
    "\n",
    "And I love to connect: https://www.linkedin.com/in/eddonner/\n",
    "\n",
    "\n",
    "### New to Notebooks like this one? Head over to the guides folder!\n",
    "\n",
    "Just to check you've already added the Python and Jupyter extensions to Cursor, if not already installed:\n",
    "- Open extensions (View >> extensions)\n",
    "- Search for python, and when the results show, click on the ms-python one, and Install it if not already installed\n",
    "- Search for jupyter, and when the results show, click on the Microsoft one, and Install it if not already installed  \n",
    "Then View >> Explorer to bring back the File Explorer.\n",
    "\n",
    "And then:\n",
    "1. Click where it says \"Select Kernel\" near the top right, and select the option called `.venv (Python 3.12.9)` or similar, which should be the first choice or the most prominent choice. You may need to choose \"Python Environments\" first.\n",
    "2. Click in each \"cell\" below, starting with the cell immediately below this text, and press Shift+Enter to run\n",
    "3. Enjoy!\n",
    "\n",
    "After you click \"Select Kernel\", if there is no option like `.venv (Python 3.12.9)` then please do the following:  \n",
    "1. On Mac: From the Cursor menu, choose Settings >> VS Code Settings (NOTE: be sure to select `VSCode Settings` not `Cursor Settings`);  \n",
    "On Windows PC: From the File menu, choose Preferences >> VS Code Settings(NOTE: be sure to select `VSCode Settings` not `Cursor Settings`)  \n",
    "2. In the Settings search bar, type \"venv\"  \n",
    "3. In the field \"Path to folder with a list of Virtual Environments\" put the path to the project root, like C:\\Users\\username\\projects\\agents (on a Windows PC) or /Users/username/projects/agents (on Mac or Linux).  \n",
    "And then try again.\n",
    "\n",
    "Having problems with missing Python versions in that list? Have you ever used Anaconda before? It might be interferring. Quit Cursor, bring up a new command line, and make sure that your Anaconda environment is deactivated:    \n",
    "`conda deactivate`  \n",
    "And if you still have any problems with conda and python versions, it's possible that you will need to run this too:  \n",
    "`conda config --set auto_activate_base false`  \n",
    "and then from within the Agents directory, you should be able to run `uv python list` and see the Python 3.12 version."
   ]
  },
  {
   "cell_type": "code",
   "execution_count": 1,
   "metadata": {},
   "outputs": [],
   "source": [
    "# First let's do an import. If you get an Import Error, double check that your Kernel is correct..\n",
    "\n",
    "from dotenv import load_dotenv\n"
   ]
  },
  {
   "cell_type": "code",
   "execution_count": 2,
   "metadata": {},
   "outputs": [
    {
     "data": {
      "text/plain": [
       "True"
      ]
     },
     "execution_count": 2,
     "metadata": {},
     "output_type": "execute_result"
    }
   ],
   "source": [
    "# Next it's time to load the API keys into environment variables\n",
    "# If this returns false, see the next cell!\n",
    "\n",
    "load_dotenv(override=True)"
   ]
  },
  {
   "cell_type": "markdown",
   "metadata": {},
   "source": [
    "### Wait, did that just output `False`??\n",
    "\n",
    "If so, the most common reason is that you didn't save your `.env` file after adding the key! Be sure to have saved.\n",
    "\n",
    "Also, make sure the `.env` file is named precisely `.env` and is in the project root directory (`agents`)\n",
    "\n",
    "By the way, your `.env` file should have a stop symbol next to it in Cursor on the left, and that's actually a good thing: that's Cursor saying to you, \"hey, I realize this is a file filled with secret information, and I'm not going to send it to an external AI to suggest changes, because your keys should not be shown to anyone else.\""
   ]
  },
  {
   "cell_type": "markdown",
   "metadata": {},
   "source": [
    "<table style=\"margin: 0; text-align: left; width:100%\">\n",
    "    <tr>\n",
    "        <td style=\"width: 150px; height: 150px; vertical-align: middle;\">\n",
    "            <img src=\"../assets/stop.png\" width=\"150\" height=\"150\" style=\"display: block;\" />\n",
    "        </td>\n",
    "        <td>\n",
    "            <h2 style=\"color:#ff7800;\">Final reminders</h2>\n",
    "            <span style=\"color:#ff7800;\">1. If you're not confident about Environment Variables or Web Endpoints / APIs, please read Topics 3 and 5 in this <a href=\"../guides/04_technical_foundations.ipynb\">technical foundations guide</a>.<br/>\n",
    "            2. If you want to use AIs other than OpenAI, like Gemini, DeepSeek or Ollama (free), please see the first section in this <a href=\"../guides/09_ai_apis_and_ollama.ipynb\">AI APIs guide</a>.<br/>\n",
    "            3. If you ever get a Name Error in Python, you can always fix it immediately; see the last section of this <a href=\"../guides/06_python_foundations.ipynb\">Python Foundations guide</a> and follow both tutorials and exercises.<br/>\n",
    "            </span>\n",
    "        </td>\n",
    "    </tr>\n",
    "</table>"
   ]
  },
  {
   "cell_type": "code",
   "execution_count": 3,
   "metadata": {},
   "outputs": [
    {
     "name": "stdout",
     "output_type": "stream",
     "text": [
      "OpenAI API Key exists and begins sk-proj-\n"
     ]
    }
   ],
   "source": [
    "# Check the key - if you're not using OpenAI, check whichever key you're using! Ollama doesn't need a key.\n",
    "\n",
    "import os\n",
    "openai_api_key = os.getenv('OPENAI_API_KEY')\n",
    "\n",
    "if openai_api_key:\n",
    "    print(f\"OpenAI API Key exists and begins {openai_api_key[:8]}\")\n",
    "else:\n",
    "    print(\"OpenAI API Key not set - please head to the troubleshooting guide in the setup folder\")\n",
    "    \n"
   ]
  },
  {
   "cell_type": "code",
   "execution_count": 4,
   "metadata": {},
   "outputs": [],
   "source": [
    "# And now - the all important import statement\n",
    "# If you get an import error - head over to troubleshooting in the Setup folder\n",
    "\n",
    "from openai import OpenAI"
   ]
  },
  {
   "cell_type": "code",
   "execution_count": 5,
   "metadata": {},
   "outputs": [],
   "source": [
    "# And now we'll create an instance of the OpenAI class\n",
    "# If you're not sure what it means to create an instance of a class - head over to the guides folder (guide 6)!\n",
    "# If you get a NameError - head over to the guides folder (guide 6)to learn about NameErrors - always instantly fixable\n",
    "# If you're not using OpenAI, you just need to slightly modify this - precise instructions are in the AI APIs guide (guide 9)\n",
    "\n",
    "openai = OpenAI()"
   ]
  },
  {
   "cell_type": "code",
   "execution_count": 6,
   "metadata": {},
   "outputs": [],
   "source": [
    "# Create a list of messages in the familiar OpenAI format\n",
    "\n",
    "messages = [{\"role\": \"user\", \"content\": \"What is 2+2?\"}]"
   ]
  },
  {
   "cell_type": "code",
   "execution_count": 7,
   "metadata": {},
   "outputs": [
    {
     "name": "stdout",
     "output_type": "stream",
     "text": [
      "2 + 2 equals 4.\n"
     ]
    }
   ],
   "source": [
    "# And now call it! Any problems, head to the troubleshooting guide\n",
    "# This uses GPT 4.1 nano, the incredibly cheap model\n",
    "# The APIs guide (guide 9) has exact instructions for using even cheaper or free alternatives to OpenAI\n",
    "# If you get a NameError, head to the guides folder (guide 6) to learn about NameErrors - always instantly fixable\n",
    "\n",
    "response = openai.chat.completions.create(\n",
    "    model=\"gpt-4.1-nano\",\n",
    "    messages=messages\n",
    ")\n",
    "\n",
    "print(response.choices[0].message.content)\n"
   ]
  },
  {
   "cell_type": "code",
   "execution_count": 8,
   "metadata": {},
   "outputs": [],
   "source": [
    "# And now - let's ask for a question:\n",
    "\n",
    "question = \"Please propose a hard, challenging question to assess someone's IQ. Respond only with the question.\"\n",
    "messages = [{\"role\": \"user\", \"content\": question}]\n"
   ]
  },
  {
   "cell_type": "code",
   "execution_count": 9,
   "metadata": {},
   "outputs": [
    {
     "name": "stdout",
     "output_type": "stream",
     "text": [
      "If two trains start from the same point and travel in exactly opposite directions, one at 60 mph and the other at 80 mph, how long will it take for them to be 420 miles apart?\n"
     ]
    }
   ],
   "source": [
    "# ask it - this uses GPT 4.1 mini, still cheap but more powerful than nano\n",
    "\n",
    "response = openai.chat.completions.create(\n",
    "    model=\"gpt-4.1-mini\",\n",
    "    messages=messages\n",
    ")\n",
    "\n",
    "question = response.choices[0].message.content\n",
    "\n",
    "print(question)\n"
   ]
  },
  {
   "cell_type": "code",
   "execution_count": 10,
   "metadata": {},
   "outputs": [],
   "source": [
    "# form a new messages list\n",
    "messages = [{\"role\": \"user\", \"content\": question}]\n"
   ]
  },
  {
   "cell_type": "code",
   "execution_count": 11,
   "metadata": {},
   "outputs": [
    {
     "name": "stdout",
     "output_type": "stream",
     "text": [
      "Let's denote the time taken as \\( t \\) hours.\n",
      "\n",
      "Since the two trains are moving in opposite directions, their relative speed is the sum of their speeds:\n",
      "\n",
      "\\[\n",
      "60 \\text{ mph} + 80 \\text{ mph} = 140 \\text{ mph}\n",
      "\\]\n",
      "\n",
      "The distance between them after \\( t \\) hours will be:\n",
      "\n",
      "\\[\n",
      "\\text{Distance} = \\text{Relative speed} \\times t = 140t\n",
      "\\]\n",
      "\n",
      "We want the distance to be 420 miles:\n",
      "\n",
      "\\[\n",
      "140t = 420\n",
      "\\]\n",
      "\n",
      "Solving for \\( t \\):\n",
      "\n",
      "\\[\n",
      "t = \\frac{420}{140} = 3 \\text{ hours}\n",
      "\\]\n",
      "\n",
      "**Answer:** It will take **3 hours** for the two trains to be 420 miles apart.\n"
     ]
    }
   ],
   "source": [
    "# Ask it again\n",
    "\n",
    "response = openai.chat.completions.create(\n",
    "    model=\"gpt-4.1-mini\",\n",
    "    messages=messages\n",
    ")\n",
    "\n",
    "answer = response.choices[0].message.content\n",
    "print(answer)\n"
   ]
  },
  {
   "cell_type": "code",
   "execution_count": 12,
   "metadata": {},
   "outputs": [
    {
     "data": {
      "text/markdown": [
       "Let's denote the time taken as \\( t \\) hours.\n",
       "\n",
       "Since the two trains are moving in opposite directions, their relative speed is the sum of their speeds:\n",
       "\n",
       "\\[\n",
       "60 \\text{ mph} + 80 \\text{ mph} = 140 \\text{ mph}\n",
       "\\]\n",
       "\n",
       "The distance between them after \\( t \\) hours will be:\n",
       "\n",
       "\\[\n",
       "\\text{Distance} = \\text{Relative speed} \\times t = 140t\n",
       "\\]\n",
       "\n",
       "We want the distance to be 420 miles:\n",
       "\n",
       "\\[\n",
       "140t = 420\n",
       "\\]\n",
       "\n",
       "Solving for \\( t \\):\n",
       "\n",
       "\\[\n",
       "t = \\frac{420}{140} = 3 \\text{ hours}\n",
       "\\]\n",
       "\n",
       "**Answer:** It will take **3 hours** for the two trains to be 420 miles apart."
      ],
      "text/plain": [
       "<IPython.core.display.Markdown object>"
      ]
     },
     "metadata": {},
     "output_type": "display_data"
    }
   ],
   "source": [
    "from IPython.display import Markdown, display\n",
    "\n",
    "display(Markdown(answer))\n",
    "\n"
   ]
  },
  {
   "cell_type": "markdown",
   "metadata": {},
   "source": [
    "# Congratulations!\n",
    "\n",
    "That was a small, simple step in the direction of Agentic AI, with your new environment!\n",
    "\n",
    "Next time things get more interesting..."
   ]
  },
  {
   "cell_type": "markdown",
   "metadata": {},
   "source": [
    "<table style=\"margin: 0; text-align: left; width:100%\">\n",
    "    <tr>\n",
    "        <td style=\"width: 150px; height: 150px; vertical-align: middle;\">\n",
    "            <img src=\"../assets/exercise.png\" width=\"150\" height=\"150\" style=\"display: block;\" />\n",
    "        </td>\n",
    "        <td>\n",
    "            <h2 style=\"color:#ff7800;\">Exercise</h2>\n",
    "            <span style=\"color:#ff7800;\">Now try this commercial application:<br/>\n",
    "            First ask the LLM to pick a business area that might be worth exploring for an Agentic AI opportunity.<br/>\n",
    "            Then ask the LLM to present a pain-point in that industry - something challenging that might be ripe for an Agentic solution.<br/>\n",
    "            Finally have 3 third LLM call propose the Agentic AI solution. <br/>\n",
    "            We will cover this at up-coming labs, so don't worry if you're unsure.. just give it a try!\n",
    "            </span>\n",
    "        </td>\n",
    "    </tr>\n",
    "</table>"
   ]
  },
  {
   "cell_type": "markdown",
   "metadata": {},
   "source": [
    "1. pick business area that might be worth exploring for an Agentic AI opportunity \n",
    "2. present a pain-point in that industry - connected to above response - industry \n",
    "3. propose the agentice ai solution "
   ]
  },
  {
   "cell_type": "code",
   "execution_count": 14,
   "metadata": {},
   "outputs": [
    {
     "data": {
      "text/markdown": [
       "One promising business area for exploring Agentic AI opportunities is **Healthcare Management and Patient Engagement**. \n",
       "\n",
       "### Rationale:\n",
       "\n",
       "1. **Personalized Patient Care**: Agentic AI can analyze vast amounts of patient data to provide personalized treatment plans, medication reminders, and lifestyle recommendations, enhancing patient outcomes.\n",
       "\n",
       "2. **Virtual Health Assistants**: AI-driven virtual assistants can help patients schedule appointments, answer health-related queries, and provide follow-up care instructions, improving patient engagement and satisfaction.\n",
       "\n",
       "3. **Predictive Analytics**: By leveraging machine learning algorithms, Agentic AI can predict patient health trends, identify at-risk patients, and suggest preventive measures, which can lead to better resource allocation and reduced healthcare costs.\n",
       "\n",
       "4. **Telemedicine Support**: AI can facilitate telehealth services by triaging patients, managing workflows, and providing real-time support to healthcare providers, making remote care more efficient.\n",
       "\n",
       "5. **Administrative Efficiency**: Automating administrative tasks such as billing, insurance claims processing, and compliance tracking can significantly reduce overhead costs and improve operational efficiency.\n",
       "\n",
       "6. **Mental Health Support**: AI can provide support for mental health through chatbots and virtual therapy sessions, making mental health resources more accessible and reducing stigma.\n",
       "\n",
       "### Potential Challenges:\n",
       "\n",
       "- **Data Privacy and Security**: Ensuring patient data is handled securely and in compliance with regulations like HIPAA.\n",
       "- **Integration with Existing Systems**: Developing solutions that can seamlessly integrate with current healthcare IT systems.\n",
       "- **User Trust and Acceptance**: Gaining the trust of both healthcare providers and patients in AI-driven solutions.\n",
       "\n",
       "### Conclusion:\n",
       "\n",
       "The healthcare sector is ripe for innovation through Agentic AI, with opportunities to enhance patient care, streamline operations, and improve overall health outcomes. By addressing the challenges and focusing on user-centric solutions, businesses can create significant value in this space."
      ],
      "text/plain": [
       "<IPython.core.display.Markdown object>"
      ]
     },
     "metadata": {},
     "output_type": "display_data"
    }
   ],
   "source": [
    "# First create the messages:\n",
    "\n",
    "messages = [{\"role\": \"user\", \"content\": \"pick a business area that might be worth exploring for an Agentic AI opportunity\"}]\n",
    "\n",
    "# Then make the first call:\n",
    "\n",
    "response = openai.chat.completions.create(\n",
    "    model=\"gpt-4o-mini\",\n",
    "    messages=messages,\n",
    "    temperature=0.0,\n",
    ")\n",
    "\n",
    "# Then read the business idea:\n",
    "\n",
    "business_idea = response.choices[0].message.content\n",
    "\n",
    "display(Markdown(business_idea))\n",
    "\n",
    "# And repeat! In the next message, include the business idea within the message"
   ]
  },
  {
   "cell_type": "markdown",
   "metadata": {},
   "source": []
  },
  {
   "cell_type": "code",
   "execution_count": 15,
   "metadata": {},
   "outputs": [
    {
     "data": {
      "text/markdown": [
       "One significant pain point in the healthcare management and patient engagement industry is **data privacy and security**. \n",
       "\n",
       "### Pain Point: Data Privacy and Security\n",
       "\n",
       "As healthcare organizations increasingly adopt Agentic AI technologies to enhance patient care and operational efficiency, they face the critical challenge of ensuring that sensitive patient data is protected. The healthcare sector is a prime target for cyberattacks due to the valuable nature of health information, which can lead to severe consequences if compromised. \n",
       "\n",
       "#### Key Aspects of the Pain Point:\n",
       "\n",
       "1. **Regulatory Compliance**: Healthcare providers must navigate complex regulations such as HIPAA (Health Insurance Portability and Accountability Act) in the U.S., which mandates strict guidelines for the handling of patient data. Non-compliance can result in hefty fines and legal repercussions.\n",
       "\n",
       "2. **Patient Trust**: Patients are increasingly concerned about how their personal health information is used and shared. Any breach of data security can erode trust in healthcare providers and AI solutions, leading to reluctance in adopting new technologies.\n",
       "\n",
       "3. **Integration Risks**: As AI systems are integrated with existing healthcare IT infrastructures, the risk of vulnerabilities increases. Ensuring that these systems communicate securely without exposing sensitive data is a significant challenge.\n",
       "\n",
       "4. **Data Management**: The vast amounts of data generated by AI systems require robust management strategies to ensure that data is not only secure but also used ethically and responsibly. This includes addressing issues related to data ownership and consent.\n",
       "\n",
       "5. **Cybersecurity Threats**: The rise of sophisticated cyber threats means that healthcare organizations must invest in advanced cybersecurity measures to protect against data breaches, ransomware attacks, and other malicious activities.\n",
       "\n",
       "### Conclusion:\n",
       "\n",
       "Addressing the pain point of data privacy and security is crucial for the successful implementation of Agentic AI in healthcare management and patient engagement. Without robust solutions to safeguard patient data, the potential benefits of AI technologies may be overshadowed by the risks, ultimately hindering innovation and patient trust in the healthcare system."
      ],
      "text/plain": [
       "<IPython.core.display.Markdown object>"
      ]
     },
     "metadata": {},
     "output_type": "display_data"
    }
   ],
   "source": [
    "messages = [{\"role\": \"user\", \"content\": f\"present a pain-point in the industry described in the following message: {business_idea}\"}]\n",
    "\n",
    "response = openai.chat.completions.create(\n",
    "    model=\"gpt-4o-mini\",\n",
    "    messages=messages,\n",
    "    temperature=0.0,\n",
    ")\n",
    "\n",
    "pain_point = response.choices[0].message.content\n",
    "\n",
    "display(Markdown(pain_point))"
   ]
  },
  {
   "cell_type": "code",
   "execution_count": 19,
   "metadata": {},
   "outputs": [
    {
     "data": {
      "text/markdown": [
       "To address the pain points related to data privacy and security in the healthcare management and patient engagement industry, we propose a comprehensive Agentic AI solution that encompasses advanced technologies, best practices, and a focus on regulatory compliance. This solution aims to enhance patient care while ensuring the protection of sensitive data.\n",
       "\n",
       "### Agentic AI Solution for Data Privacy and Security\n",
       "\n",
       "#### 1. **Data Encryption and Secure Communication**\n",
       "   - **End-to-End Encryption**: Implement strong encryption protocols for data at rest and in transit. This ensures that patient data is protected from unauthorized access during storage and transmission.\n",
       "   - **Secure APIs**: Develop secure application programming interfaces (APIs) that facilitate safe communication between AI systems and existing healthcare IT infrastructures, minimizing the risk of data exposure.\n",
       "\n",
       "#### 2. **Regulatory Compliance Framework**\n",
       "   - **Automated Compliance Monitoring**: Utilize AI-driven tools to continuously monitor compliance with regulations such as HIPAA. These tools can automatically flag potential violations and generate compliance reports, reducing the burden on healthcare providers.\n",
       "   - **Consent Management Systems**: Implement AI-powered consent management solutions that allow patients to easily manage their data sharing preferences, ensuring that their consent is obtained and documented in accordance with legal requirements.\n",
       "\n",
       "#### 3. **Patient-Centric Data Management**\n",
       "   - **Data Anonymization**: Use AI algorithms to anonymize patient data for analysis, ensuring that individual identities are protected while still allowing for valuable insights to be derived from the data.\n",
       "   - **Patient Education and Transparency**: Develop AI-driven platforms that educate patients about data usage, privacy policies, and their rights. Transparency can help build trust and encourage patient engagement with AI technologies.\n",
       "\n",
       "#### 4. **Advanced Cybersecurity Measures**\n",
       "   - **AI-Powered Threat Detection**: Implement machine learning algorithms that can detect unusual patterns of behavior indicative of cyber threats. These systems can provide real-time alerts and automated responses to potential breaches.\n",
       "   - **Regular Security Audits and Penetration Testing**: Conduct routine security assessments and penetration testing to identify vulnerabilities in the system. AI can assist in simulating attacks to evaluate the effectiveness of security measures.\n",
       "\n",
       "#### 5. **Integration and Interoperability Solutions**\n",
       "   - **Secure Data Sharing Protocols**: Establish standardized protocols for secure data sharing between different healthcare systems and AI applications. This ensures that data is exchanged securely without compromising patient privacy.\n",
       "   - **Interoperable AI Systems**: Design AI solutions that are interoperable with existing healthcare IT systems, allowing for seamless integration while maintaining robust security measures.\n",
       "\n",
       "#### 6. **Ethical AI Governance**\n",
       "   - **Ethical Guidelines for AI Use**: Develop a framework for the ethical use of AI in healthcare, focusing on data ownership, patient consent, and responsible data usage. This framework should be regularly updated to reflect evolving ethical standards and regulations.\n",
       "   - **Stakeholder Engagement**: Involve patients, healthcare providers, and regulatory bodies in the development and implementation of AI solutions to ensure that diverse perspectives are considered in data privacy and security strategies.\n",
       "\n",
       "### Conclusion\n",
       "\n",
       "By implementing this comprehensive Agentic AI solution, healthcare organizations can effectively address the critical pain points of data privacy and security. This approach not only safeguards sensitive patient information but also fosters patient trust and encourages the adoption of innovative AI technologies in healthcare. Ultimately, a secure and compliant environment will enable healthcare providers to leverage the full potential of AI, enhancing patient care and operational efficiency while mitigating risks."
      ],
      "text/plain": [
       "<IPython.core.display.Markdown object>"
      ]
     },
     "metadata": {},
     "output_type": "display_data"
    }
   ],
   "source": [
    "messages = [{\"role\": \"user\", \"content\": f\"present an agentic ai solution for the pain points described in the following message: {pain_point}\"}]\n",
    "\n",
    "response = openai.chat.completions.create(\n",
    "    model=\"gpt-4o-mini\",\n",
    "    messages=messages,\n",
    "    temperature=0.0,\n",
    ")\n",
    "\n",
    "agentic_solution = response.choices[0].message.content\n",
    "\n",
    "display(Markdown(agentic_solution))"
   ]
  }
 ],
 "metadata": {
  "kernelspec": {
   "display_name": ".venv",
   "language": "python",
   "name": "python3"
  },
  "language_info": {
   "codemirror_mode": {
    "name": "ipython",
    "version": 3
   },
   "file_extension": ".py",
   "mimetype": "text/x-python",
   "name": "python",
   "nbconvert_exporter": "python",
   "pygments_lexer": "ipython3",
   "version": "3.12.3"
  }
 },
 "nbformat": 4,
 "nbformat_minor": 2
}
