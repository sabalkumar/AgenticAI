{
 "cells": [
  {
   "cell_type": "code",
   "execution_count": null,
   "id": "46d08eea",
   "metadata": {},
   "outputs": [],
   "source": [
    "import os\n",
    "import json\n",
    "import requests \n",
    "from dotenv import load_dotenv\n",
    "from openai import OpenAI\n",
    "from anthropic import Anthropic\n",
    "from IPython.display import Markdown, display\n",
    "from concurrent.futures import ThreadPoolExecutor\n",
    "import utils as ut"
   ]
  },
  {
   "cell_type": "code",
   "execution_count": null,
   "id": "7f1b7ac3",
   "metadata": {},
   "outputs": [],
   "source": [
    "# define the constants \n",
    "MAX_THREAD = 4\n",
    "AI_MODELS = [\"openai\", \"anthropic\", \"ollama\", \"deepseek\"]"
   ]
  },
  {
   "cell_type": "code",
   "execution_count": null,
   "id": "f0046948",
   "metadata": {},
   "outputs": [],
   "source": [
    "# define the question prompt\n",
    "request = \"Please come up with a challenging, nuanced question that I can ask a number of LLMs to evaluate their intelligence. \"\n",
    "request += \"Answer only with the question, no explanation.\"\n",
    "messages = [{\"role\": \"user\", \"content\": request}]"
   ]
  },
  {
   "cell_type": "code",
   "execution_count": null,
   "id": "d874dc1d",
   "metadata": {},
   "outputs": [],
   "source": [
    "# generate question \n",
    "question = ut.ask_llm(\"openai\", messages=messages)\n",
    "\n",
    "# re-define the messages using the question to send to the LLMs \n",
    "messages = [{\"role\": \"user\", \"content\": question}] "
   ]
  },
  {
   "cell_type": "code",
   "execution_count": null,
   "id": "304a8df9",
   "metadata": {},
   "outputs": [],
   "source": [
    "# inspect the question \n",
    "question"
   ]
  },
  {
   "cell_type": "code",
   "execution_count": null,
   "id": "b8de7a39",
   "metadata": {},
   "outputs": [],
   "source": [
    "\n",
    "# send question to llms \n",
    "with ThreadPoolExecutor(max_workers=MAX_THREAD) as executor:\n",
    "    responses = executor.map(ut.ask_llm, AI_MODELS, [messages] * len(AI_MODELS))\n"
   ]
  },
  {
   "cell_type": "code",
   "execution_count": null,
   "id": "c77d5830",
   "metadata": {},
   "outputs": [],
   "source": [
    "# join all responses \n",
    "all_reponses = \"/n\".join([f\"# Response from model {index} \\n {response}\" for index, response in enumerate(responses, start=1)])"
   ]
  },
  {
   "cell_type": "code",
   "execution_count": null,
   "id": "3eb883d4",
   "metadata": {},
   "outputs": [],
   "source": [
    "# define agggregator prompt \n",
    "aggregator_prompt = f\"\"\"\n",
    "You are a helpful assistant that aggregates the responses from a number of LLMs.\n",
    "\n",
    "You will be given a list of responses from the LLMs.\n",
    "\n",
    "You will need to aggregate the responses into a single response.\n",
    "\n",
    "Each model has been given this question:\n",
    "{question}\n",
    "\n",
    "You will need to return the aggregated response in Markdown format,\n",
    "making explicit where each part/section of the aggregated response comes from at the end of the response.\n",
    "\n",
    "Here are the responses from each competitor:\n",
    "\n",
    "{all_reponses}\n",
    "\n",
    "\"\"\" "
   ]
  },
  {
   "cell_type": "code",
   "execution_count": null,
   "id": "c336e494",
   "metadata": {},
   "outputs": [],
   "source": [
    "aggregator_messages = [{\"role\": \"user\", \"content\": aggregator_prompt}]"
   ]
  },
  {
   "cell_type": "code",
   "execution_count": null,
   "id": "74707a8c",
   "metadata": {},
   "outputs": [],
   "source": [
    "# aggregate the responses \n",
    "\n",
    "aggregated_response = ut.ask_llm(\"openai\", messages=aggregator_messages)\n",
    "\n",
    "display(Markdown(aggregated_response))"
   ]
  }
 ],
 "metadata": {
  "kernelspec": {
   "display_name": ".venv",
   "language": "python",
   "name": "python3"
  },
  "language_info": {
   "codemirror_mode": {
    "name": "ipython",
    "version": 3
   },
   "file_extension": ".py",
   "mimetype": "text/x-python",
   "name": "python",
   "nbconvert_exporter": "python",
   "pygments_lexer": "ipython3",
   "version": "3.12.3"
  }
 },
 "nbformat": 4,
 "nbformat_minor": 5
}
